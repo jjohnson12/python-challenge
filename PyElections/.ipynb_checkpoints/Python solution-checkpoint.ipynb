{
 "cells": [
  {
   "cell_type": "code",
   "execution_count": null,
   "metadata": {},
   "outputs": [],
   "source": [
    "# import dependencies\n",
    "\n",
    "import csv\n",
    "import os\n",
    "from collections import Counter"
   ]
  },
  {
   "cell_type": "code",
   "execution_count": null,
   "metadata": {},
   "outputs": [],
   "source": [
    "# Path to collect data from Resources folder\n",
    "\n",
    "election = os.path.join(\"Resources\", \"houston_election_data.csv\")\n",
    "with open(election, \"r\") as csvfile:\n",
    "    csvreader = csv.reader(csvfile, delimiter=\",\")\n",
    "\n",
    "# remove the header\n",
    "    next(csvreader)\n",
    "# count number of unique elements (votes)\n",
    "    votes = [row[0] for row in csvreader]\n",
    "# create a dictionary of the # of votes per candidate\n",
    "    count = Counter(votes)\n",
    "    print(votes)"
   ]
  },
  {
   "cell_type": "code",
   "execution_count": null,
   "metadata": {},
   "outputs": [],
   "source": [
    "# Find total votes cast.\n",
    "\n",
    "votes_cast = (csvreader.line_num) - 1\n",
    "print(votes_cast)"
   ]
  },
  {
   "cell_type": "code",
   "execution_count": null,
   "metadata": {},
   "outputs": [],
   "source": [
    "# Sort the dictionary by the votes cast.\n",
    "\n",
    "sorted_count = {k: v for k, v in sorted(count.items(), key=lambda item: item[1], reverse=True)}"
   ]
  },
  {
   "cell_type": "code",
   "execution_count": null,
   "metadata": {},
   "outputs": [],
   "source": [
    "# Break the dictionary into tuples.\n",
    "\n",
    "candidate_votes = [(k, v) for k, v in sorted_count.items()]\n",
    "print(candidate_votes)"
   ]
  },
  {
   "cell_type": "code",
   "execution_count": null,
   "metadata": {},
   "outputs": [],
   "source": [
    "# break the tuples into lists.\n",
    "\n",
    "candidate, votes = zip(*candidate_votes)"
   ]
  },
  {
   "cell_type": "code",
   "execution_count": null,
   "metadata": {},
   "outputs": [],
   "source": [
    "# convert the votes cast for each candidate into percentages.\n",
    "\n",
    "percent = [round((j / votes_cast)*100, 2) for j in votes]\n",
    "print(percent)"
   ]
  },
  {
   "cell_type": "code",
   "execution_count": null,
   "metadata": {},
   "outputs": [],
   "source": [
    "# print the output requested\n",
    "\n",
    "print(\"Houston Mayoral Election Results\")\n",
    "print(\"-----------------------------------------\")\n",
    "print(f\"Total Cast Votes: {str(votes_cast)}\")\n",
    "print(\"-----------------------------------------\")\n",
    "print(f\"{(candidate[0])}: {(percent[0])} ({(votes[0])})\")\n",
    "print(f\"{(candidate[1])}: {(percent[1])} ({(votes[1])})\")\n",
    "print(f\"{(candidate[2])}: {(percent[2])} ({(votes[2])})\")\n",
    "print(f\"{(candidate[3])}: {(percent[3])} ({(votes[3])})\")\n",
    "print(f\"{(candidate[4])}: {(percent[4])} ({(votes[4])})\")\n",
    "print(f\"{(candidate[5])}: {(percent[5])} ({(votes[5])})\")\n",
    "print(f\"{(candidate[6])}: {(percent[6])} ({(votes[6])})\")\n",
    "print(f\"{(candidate[7])}: {(percent[7])} ({(votes[7])})\")\n",
    "print(f\"{(candidate[8])}: {(percent[8])} ({(votes[8])})\")\n",
    "print(f\"{(candidate[9])}: {(percent[9])} ({(votes[9])})\")\n",
    "print(f\"{(candidate[10])}: {(percent[10])} ({(votes[10])})\")\n",
    "print(f\"{(candidate[11])}: {(percent[11])} ({(votes[11])})\")\n",
    "print(\"-----------------------------------------\")\n",
    "print(f\"1st Advancing Candidate: {(candidate[0])}\")\n",
    "print(f\"2nd Advancing Candidate: {(candidate[1])}\")\n",
    "print(\"-----------------------------------------\")\n"
   ]
  },
  {
   "cell_type": "code",
   "execution_count": null,
   "metadata": {},
   "outputs": [],
   "source": [
    "import sys\n",
    "filename = open(\"houston_election_results.txt\", \"w\")\n",
    "sys.stdout = filename\n",
    "print(\"Houston Mayoral Election Results\")\n",
    "print(\"-----------------------------------------\")\n",
    "print(f\"Total Cast Votes: {str(votes_cast)}\")\n",
    "print(\"-----------------------------------------\")\n",
    "print(f\"{(candidate[0])}: {(percent[0])} ({(votes[0])})\")\n",
    "print(f\"{(candidate[1])}: {(percent[1])} ({(votes[1])})\")\n",
    "print(f\"{(candidate[2])}: {(percent[2])} ({(votes[2])})\")\n",
    "print(f\"{(candidate[3])}: {(percent[3])} ({(votes[3])})\")\n",
    "print(f\"{(candidate[4])}: {(percent[4])} ({(votes[4])})\")\n",
    "print(f\"{(candidate[5])}: {(percent[5])} ({(votes[5])})\")\n",
    "print(f\"{(candidate[6])}: {(percent[6])} ({(votes[6])})\")\n",
    "print(f\"{(candidate[7])}: {(percent[7])} ({(votes[7])})\")\n",
    "print(f\"{(candidate[8])}: {(percent[8])} ({(votes[8])})\")\n",
    "print(f\"{(candidate[9])}: {(percent[9])} ({(votes[9])})\")\n",
    "print(f\"{(candidate[10])}: {(percent[10])} ({(votes[10])})\")\n",
    "print(f\"{(candidate[11])}: {(percent[11])} ({(votes[11])})\")\n",
    "print(\"-----------------------------------------\")\n",
    "print(f\"1st Advancing Candidate: {(candidate[0])}\")\n",
    "print(f\"2nd Advancing Candidate: {(candidate[1])}\")\n",
    "print(\"-----------------------------------------\")"
   ]
  },
  {
   "cell_type": "code",
   "execution_count": null,
   "metadata": {},
   "outputs": [],
   "source": []
  }
 ],
 "metadata": {
  "kernelspec": {
   "display_name": "Python 3",
   "language": "python",
   "name": "python3"
  },
  "language_info": {
   "codemirror_mode": {
    "name": "ipython",
    "version": 3
   },
   "file_extension": ".py",
   "mimetype": "text/x-python",
   "name": "python",
   "nbconvert_exporter": "python",
   "pygments_lexer": "ipython3",
   "version": "3.7.4"
  }
 },
 "nbformat": 4,
 "nbformat_minor": 2
}
