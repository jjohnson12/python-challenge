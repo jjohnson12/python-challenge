{
 "cells": [
  {
   "cell_type": "code",
   "execution_count": 1,
   "metadata": {},
   "outputs": [],
   "source": [
    "# Dependencies\n",
    "import pandas as pd"
   ]
  },
  {
   "cell_type": "code",
   "execution_count": 2,
   "metadata": {},
   "outputs": [
    {
     "data": {
      "text/plain": [
       "<bound method NDFrame.head of                 Candidate             County  Voter ID\n",
       "0       Dwight A. Boykins      Harris County   3363684\n",
       "1               Bill King   Fort Bend County   6114041\n",
       "2        Sylvester Turner   Fort Bend County   9143483\n",
       "3               Bill King   Fort Bend County   3122710\n",
       "4        Sylvester Turner  Montgomery County   6824440\n",
       "...                   ...                ...       ...\n",
       "241027   Sylvester Turner      Harris County   7949158\n",
       "241028          Bill King      Harris County   8111351\n",
       "241029          Bill King  Montgomery County   1085757\n",
       "241030  Dwight A. Boykins   Fort Bend County   8032584\n",
       "241031     Demetria Smith  Montgomery County   8778789\n",
       "\n",
       "[241032 rows x 3 columns]>"
      ]
     },
     "execution_count": 2,
     "metadata": {},
     "output_type": "execute_result"
    }
   ],
   "source": [
    "# load CSV\n",
    "election = \"Resources/houston_election_data.csv\"\n",
    "\n",
    "# Read with pandas\n",
    "election_pd = pd.read_csv(election, encoding=\"utf-8\")\n",
    "election_pd.head"
   ]
  },
  {
   "cell_type": "code",
   "execution_count": 3,
   "metadata": {},
   "outputs": [
    {
     "data": {
      "text/plain": [
       "241032"
      ]
     },
     "execution_count": 3,
     "metadata": {},
     "output_type": "execute_result"
    }
   ],
   "source": [
    "# The total # of votes cast\n",
    "\n",
    "total_votes = len(election_pd)\n",
    "total_votes"
   ]
  },
  {
   "cell_type": "code",
   "execution_count": 4,
   "metadata": {},
   "outputs": [
    {
     "data": {
      "text/plain": [
       "array(['Dwight A. Boykins', 'Bill King', 'Sylvester Turner',\n",
       "       'Tony Buzbee', 'Victoria Romero', 'Roy J. Vasquez',\n",
       "       'Demetria Smith', 'Sue Lovell', 'Derrick Broze', 'Kendall Baker',\n",
       "       'Johnny “J.T.” Taylor', 'Naoufal Houjami'], dtype=object)"
      ]
     },
     "execution_count": 4,
     "metadata": {},
     "output_type": "execute_result"
    }
   ],
   "source": [
    "# A complete list of candidates who received votes:\n",
    "\n",
    "candidates = election_pd[\"Candidate\"].unique()\n",
    "candidates"
   ]
  },
  {
   "cell_type": "code",
   "execution_count": 5,
   "metadata": {},
   "outputs": [],
   "source": [
    "# Obrtain the count of votes for each Candidate.\n",
    "\n",
    "boykinds_votes = election_pd[\"Candidate\"].value_counts()['Dwight A. Boykins']\n",
    "king_votes = election_pd[\"Candidate\"].value_counts()['Bill King']\n",
    "turner_votes = election_pd[\"Candidate\"].value_counts()['Sylvester Turner']\n",
    "buzbee_votes = election_pd[\"Candidate\"].value_counts()['Tony Buzbee']\n",
    "romero_votes = election_pd[\"Candidate\"].value_counts()['Victoria Romero']\n",
    "vasquez_votes = election_pd[\"Candidate\"].value_counts()['Roy J. Vasquez']\n",
    "smith_votes = election_pd[\"Candidate\"].value_counts()['Demetria Smith']\n",
    "lovelle_votes = election_pd[\"Candidate\"].value_counts()['Sue Lovell']\n",
    "broze_votes = election_pd[\"Candidate\"].value_counts()['Derrick Broze']\n",
    "baker_votes = election_pd[\"Candidate\"].value_counts()['Kendall Baker']\n",
    "taylor_votes = election_pd[\"Candidate\"].value_counts()['Johnny “J.T.” Taylor']\n",
    "houjami_votes = election_pd[\"Candidate\"].value_counts()['Naoufal Houjami']\n",
    "\n"
   ]
  },
  {
   "cell_type": "code",
   "execution_count": 6,
   "metadata": {},
   "outputs": [
    {
     "name": "stdout",
     "output_type": "stream",
     "text": [
      "14212\n"
     ]
    }
   ],
   "source": [
    "print(boykinds_votes)"
   ]
  },
  {
   "cell_type": "code",
   "execution_count": null,
   "metadata": {},
   "outputs": [],
   "source": []
  }
 ],
 "metadata": {
  "kernelspec": {
   "display_name": "Python 3",
   "language": "python",
   "name": "python3"
  },
  "language_info": {
   "codemirror_mode": {
    "name": "ipython",
    "version": 3
   },
   "file_extension": ".py",
   "mimetype": "text/x-python",
   "name": "python",
   "nbconvert_exporter": "python",
   "pygments_lexer": "ipython3",
   "version": "3.7.4"
  }
 },
 "nbformat": 4,
 "nbformat_minor": 2
}
