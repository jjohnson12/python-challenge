{
 "cells": [
  {
   "cell_type": "code",
   "execution_count": 1,
   "metadata": {},
   "outputs": [],
   "source": [
    "# import dependencies\n",
    "\n",
    "import csv\n",
    "import os\n",
    "from collections import Counter"
   ]
  },
  {
   "cell_type": "code",
   "execution_count": 2,
   "metadata": {},
   "outputs": [
    {
     "name": "stderr",
     "output_type": "stream",
     "text": [
      "IOPub data rate exceeded.\n",
      "The notebook server will temporarily stop sending output\n",
      "to the client in order to avoid crashing it.\n",
      "To change this limit, set the config variable\n",
      "`--NotebookApp.iopub_data_rate_limit`.\n",
      "\n",
      "Current values:\n",
      "NotebookApp.iopub_data_rate_limit=1000000.0 (bytes/sec)\n",
      "NotebookApp.rate_limit_window=3.0 (secs)\n",
      "\n"
     ]
    }
   ],
   "source": [
    "# Path to collect data from Resources folder\n",
    "\n",
    "election = os.path.join(\"Resources\", \"houston_election_data.csv\")\n",
    "with open(election, \"r\") as csvfile:\n",
    "    csvreader = csv.reader(csvfile, delimiter=\",\")\n",
    "\n",
    "# remove the header\n",
    "    next(csvreader)\n",
    "# count number of unique elements (votes)\n",
    "    votes = [row[0] for row in csvreader]\n",
    "# create a dictionary of the # of votes per candidate\n",
    "    count = Counter(votes)\n",
    "    print(votes)"
   ]
  },
  {
   "cell_type": "code",
   "execution_count": 3,
   "metadata": {},
   "outputs": [
    {
     "name": "stdout",
     "output_type": "stream",
     "text": [
      "241032\n"
     ]
    }
   ],
   "source": [
    "# Find total votes cast.\n",
    "\n",
    "votes_cast = (csvreader.line_num) - 1\n",
    "print(votes_cast)"
   ]
  },
  {
   "cell_type": "code",
   "execution_count": 4,
   "metadata": {},
   "outputs": [],
   "source": [
    "# Sort the dictionary by the votes cast.\n",
    "\n",
    "sorted_count = {k: v for k, v in sorted(count.items(), key=lambda item: item[1], reverse=True)}"
   ]
  },
  {
   "cell_type": "code",
   "execution_count": 5,
   "metadata": {},
   "outputs": [
    {
     "name": "stdout",
     "output_type": "stream",
     "text": [
      "[('Sylvester Turner', 111789), ('Tony Buzbee', 69361), ('Bill King', 33772), ('Dwight A. Boykins', 14212), ('Victoria Romero', 2933), ('Sue Lovell', 2932), ('Demetria Smith', 1694), ('Roy J. Vasquez', 1556), ('Kendall Baker', 982), ('Derrick Broze', 686), ('Naoufal Houjami', 560), ('Johnny “J.T.” Taylor', 555)]\n"
     ]
    }
   ],
   "source": [
    "# Break the dictionary into tuples.\n",
    "\n",
    "candidate_votes = [(k, v) for k, v in sorted_count.items()]\n",
    "print(candidate_votes)"
   ]
  },
  {
   "cell_type": "code",
   "execution_count": 6,
   "metadata": {},
   "outputs": [],
   "source": [
    "# break the tuples into lists.\n",
    "\n",
    "candidate, votes = zip(*candidate_votes)"
   ]
  },
  {
   "cell_type": "code",
   "execution_count": 7,
   "metadata": {},
   "outputs": [
    {
     "name": "stdout",
     "output_type": "stream",
     "text": [
      "[46.38, 28.78, 14.01, 5.9, 1.22, 1.22, 0.7, 0.65, 0.41, 0.28, 0.23, 0.23]\n"
     ]
    }
   ],
   "source": [
    "# convert the votes cast for each candidate into percentages.\n",
    "\n",
    "percent = [round((j / votes_cast)*100, 2) for j in votes]\n",
    "print(percent)"
   ]
  },
  {
   "cell_type": "code",
   "execution_count": 8,
   "metadata": {},
   "outputs": [
    {
     "name": "stdout",
     "output_type": "stream",
     "text": [
      "Houston Mayoral Election Results\n",
      "-----------------------------------------\n",
      "Total Cast Votes: 241032\n",
      "-----------------------------------------\n",
      "Sylvester Turner: 46.38 (111789)\n",
      "Tony Buzbee: 28.78 (69361)\n",
      "Bill King: 14.01 (33772)\n",
      "Dwight A. Boykins: 5.9 (14212)\n",
      "Victoria Romero: 1.22 (2933)\n",
      "Sue Lovell: 1.22 (2932)\n",
      "Demetria Smith: 0.7 (1694)\n",
      "Roy J. Vasquez: 0.65 (1556)\n",
      "Kendall Baker: 0.41 (982)\n",
      "Derrick Broze: 0.28 (686)\n",
      "Naoufal Houjami: 0.23 (560)\n",
      "Johnny “J.T.” Taylor: 0.23 (555)\n",
      "-----------------------------------------\n",
      "1st Advancing Candidate: Sylvester Turner\n",
      "2nd Advancing Candidate: Tony Buzbee\n",
      "-----------------------------------------\n"
     ]
    }
   ],
   "source": [
    "# print the output requested\n",
    "\n",
    "print(\"Houston Mayoral Election Results\")\n",
    "print(\"-----------------------------------------\")\n",
    "print(f\"Total Cast Votes: {str(votes_cast)}\")\n",
    "print(\"-----------------------------------------\")\n",
    "print(f\"{(candidate[0])}: {(percent[0])} ({(votes[0])})\")\n",
    "print(f\"{(candidate[1])}: {(percent[1])} ({(votes[1])})\")\n",
    "print(f\"{(candidate[2])}: {(percent[2])} ({(votes[2])})\")\n",
    "print(f\"{(candidate[3])}: {(percent[3])} ({(votes[3])})\")\n",
    "print(f\"{(candidate[4])}: {(percent[4])} ({(votes[4])})\")\n",
    "print(f\"{(candidate[5])}: {(percent[5])} ({(votes[5])})\")\n",
    "print(f\"{(candidate[6])}: {(percent[6])} ({(votes[6])})\")\n",
    "print(f\"{(candidate[7])}: {(percent[7])} ({(votes[7])})\")\n",
    "print(f\"{(candidate[8])}: {(percent[8])} ({(votes[8])})\")\n",
    "print(f\"{(candidate[9])}: {(percent[9])} ({(votes[9])})\")\n",
    "print(f\"{(candidate[10])}: {(percent[10])} ({(votes[10])})\")\n",
    "print(f\"{(candidate[11])}: {(percent[11])} ({(votes[11])})\")\n",
    "print(\"-----------------------------------------\")\n",
    "print(f\"1st Advancing Candidate: {(candidate[0])}\")\n",
    "print(f\"2nd Advancing Candidate: {(candidate[1])}\")\n",
    "print(\"-----------------------------------------\")\n"
   ]
  },
  {
   "cell_type": "code",
   "execution_count": 9,
   "metadata": {},
   "outputs": [],
   "source": [
    "import sys\n",
    "filename = open(\"houston_election_results.txt\", \"w\")\n",
    "sys.stdout = filename\n",
    "print(\"Houston Mayoral Election Results\")\n",
    "print(\"-----------------------------------------\")\n",
    "print(f\"Total Cast Votes: {str(votes_cast)}\")\n",
    "print(\"-----------------------------------------\")\n",
    "print(f\"{(candidate[0])}: {(percent[0])} ({(votes[0])})\")\n",
    "print(f\"{(candidate[1])}: {(percent[1])} ({(votes[1])})\")\n",
    "print(f\"{(candidate[2])}: {(percent[2])} ({(votes[2])})\")\n",
    "print(f\"{(candidate[3])}: {(percent[3])} ({(votes[3])})\")\n",
    "print(f\"{(candidate[4])}: {(percent[4])} ({(votes[4])})\")\n",
    "print(f\"{(candidate[5])}: {(percent[5])} ({(votes[5])})\")\n",
    "print(f\"{(candidate[6])}: {(percent[6])} ({(votes[6])})\")\n",
    "print(f\"{(candidate[7])}: {(percent[7])} ({(votes[7])})\")\n",
    "print(f\"{(candidate[8])}: {(percent[8])} ({(votes[8])})\")\n",
    "print(f\"{(candidate[9])}: {(percent[9])} ({(votes[9])})\")\n",
    "print(f\"{(candidate[10])}: {(percent[10])} ({(votes[10])})\")\n",
    "print(f\"{(candidate[11])}: {(percent[11])} ({(votes[11])})\")\n",
    "print(\"-----------------------------------------\")\n",
    "print(f\"1st Advancing Candidate: {(candidate[0])}\")\n",
    "print(f\"2nd Advancing Candidate: {(candidate[1])}\")\n",
    "print(\"-----------------------------------------\")"
   ]
  },
  {
   "cell_type": "code",
   "execution_count": null,
   "metadata": {},
   "outputs": [],
   "source": []
  }
 ],
 "metadata": {
  "kernelspec": {
   "display_name": "Python 3",
   "language": "python",
   "name": "python3"
  },
  "language_info": {
   "codemirror_mode": {
    "name": "ipython",
    "version": 3
   },
   "file_extension": ".py",
   "mimetype": "text/x-python",
   "name": "python",
   "nbconvert_exporter": "python",
   "pygments_lexer": "ipython3",
   "version": "3.7.4"
  }
 },
 "nbformat": 4,
 "nbformat_minor": 2
}
