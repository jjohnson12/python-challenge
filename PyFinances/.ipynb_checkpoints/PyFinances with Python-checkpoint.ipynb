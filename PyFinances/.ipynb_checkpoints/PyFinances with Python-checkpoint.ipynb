{
 "cells": [
  {
   "cell_type": "code",
   "execution_count": 53,
   "metadata": {},
   "outputs": [],
   "source": [
    "# import dependencies\n",
    "\n",
    "import csv, os, operator, sys\n",
    "from numpy import diff"
   ]
  },
  {
   "cell_type": "code",
   "execution_count": 54,
   "metadata": {},
   "outputs": [],
   "source": [
    "# Path to collect data from Resources folder\n",
    "\n",
    "budget = os.path.join(\"Resources\", \"budget_data.csv\")\n",
    "with open(budget, \"r\") as csvfile:\n",
    "    csvreader = csv.reader(csvfile, delimiter=\",\")\n",
    "    # remove the column headers\n",
    "    next(csvreader)\n",
    "    # create a dictionary from the csv\n",
    "    budget_dict = {rows[0]:rows[1] for rows in csvreader}\n",
    "    print(budget_dict)"
   ]
  },
  {
   "cell_type": "code",
   "execution_count": 55,
   "metadata": {},
   "outputs": [],
   "source": [
    "# Break the dictionary into tuples.\n",
    "\n",
    "net_month = [(k, v) for k, v in budget_dict.items()]\n",
    "print(net_month)"
   ]
  },
  {
   "cell_type": "code",
   "execution_count": 56,
   "metadata": {},
   "outputs": [],
   "source": [
    "# break the tuples into lists.\n",
    "\n",
    "net, month = zip(*net_month)\n",
    "\n",
    "# change net into integers\n",
    "net = [int(i) for i in net]\n",
    "\n",
    "print(net, month)"
   ]
  },
  {
   "cell_type": "code",
   "execution_count": 57,
   "metadata": {},
   "outputs": [],
   "source": [
    "# figure out the changes in profit/loss from month to month\n",
    "\n",
    "net_change = diff(net)\n",
    "a = 0\n",
    "net_change_adj = a + net_change\n",
    "print(net_change_adj)"
   ]
  },
  {
   "cell_type": "code",
   "execution_count": 58,
   "metadata": {},
   "outputs": [],
   "source": [
    "#Create dictionary of the net change and the date.\n",
    "\n",
    "net_change_by_date = dict(zip(month, net_change_adj))\n",
    "print(net_change_by_date)"
   ]
  },
  {
   "cell_type": "code",
   "execution_count": 24,
   "metadata": {},
   "outputs": [
    {
     "name": "stdout",
     "output_type": "stream",
     "text": [
      "86\n"
     ]
    }
   ],
   "source": [
    "# Find total months.\n",
    "\n",
    "total_months = (csvreader.line_num) - 1\n",
    "print(total_months)"
   ]
  },
  {
   "cell_type": "code",
   "execution_count": 37,
   "metadata": {},
   "outputs": [
    {
     "name": "stdout",
     "output_type": "stream",
     "text": [
      "38382578 -2315.12\n"
     ]
    }
   ],
   "source": [
    "# Sum all of the monthly net values.\n",
    "sum_net = sum(net)\n",
    "\n",
    "# Average all of the monthly net values.\n",
    "avg_net_change = round((sum(net_change) / len(net_change)),2)\n",
    "\n",
    "print(sum_net, avg_net_change)\n",
    "\n"
   ]
  },
  {
   "cell_type": "code",
   "execution_count": 45,
   "metadata": {},
   "outputs": [
    {
     "name": "stdout",
     "output_type": "stream",
     "text": [
      "Feb-2012 1926159 Sep-2013 -2196167\n"
     ]
    }
   ],
   "source": [
    "#perform a lookup of the value that matches these keys in dictionary\n",
    "\n",
    "gr_increase_month = max(net_change_by_date.items(), key=operator.itemgetter(1))[0]\n",
    "greatest_increase = max(net_change_by_date.items(), key=operator.itemgetter(1))[1]\n",
    "gr_drop_month = min(net_change_by_date.items(), key=operator.itemgetter(1))[0]\n",
    "greatest_drop = min(net_change_by_date.items(), key=operator.itemgetter(1))[1]\n",
    "\n",
    "print(gr_increase_month, greatest_increase, gr_drop_month, greatest_drop)"
   ]
  },
  {
   "cell_type": "code",
   "execution_count": 47,
   "metadata": {},
   "outputs": [
    {
     "name": "stdout",
     "output_type": "stream",
     "text": [
      "Financial Analysis\n",
      "----------------------------\n",
      "Total Months: 86\n",
      "Total: $38382578\n",
      "Average Change: $-2315.12\n",
      "Greatest Incrase in Profits: Feb-2012 ($1926159)\n",
      "Greatest Incrase in Profits: Sep-2013 ($-2196167)\n"
     ]
    }
   ],
   "source": [
    "# print the output requested\n",
    "\n",
    "print(\"Financial Analysis\")\n",
    "print(\"----------------------------\")\n",
    "print(f\"Total Months: {str(total_months)}\")\n",
    "print(f\"Total: ${str(sum_net)}\")\n",
    "print(f\"Average Change: ${str(avg_net_change)}\")\n",
    "print(f\"Greatest Incrase in Profits: {str(gr_increase_month)} (${str(greatest_increase)})\")\n",
    "print(f\"Greatest Incrase in Profits: {str(gr_drop_month)} (${str(greatest_drop)})\")"
   ]
  },
  {
   "cell_type": "code",
   "execution_count": 48,
   "metadata": {},
   "outputs": [],
   "source": [
    "filename = open(\"pyfinances_results.txt\", \"w\")\n",
    "sys.stdout = filename\n",
    "\n",
    "print(\"Financial Analysis\")\n",
    "print(\"----------------------------\")\n",
    "print(f\"Total Months: {str(total_months)}\")\n",
    "print(f\"Total: ${str(sum_net)}\")\n",
    "print(f\"Average Change: ${str(avg_net)}\")\n",
    "print(f\"Greatest Incrase in Profits: {str(gr_increase_month)} (${str(greatest_increase)})\")\n",
    "print(f\"Greatest Incrase in Profits: {str(gr_drop_month)} (${str(greatest_drop)})\")"
   ]
  },
  {
   "cell_type": "code",
   "execution_count": null,
   "metadata": {},
   "outputs": [],
   "source": []
  }
 ],
 "metadata": {
  "kernelspec": {
   "display_name": "Python 3",
   "language": "python",
   "name": "python3"
  },
  "language_info": {
   "codemirror_mode": {
    "name": "ipython",
    "version": 3
   },
   "file_extension": ".py",
   "mimetype": "text/x-python",
   "name": "python",
   "nbconvert_exporter": "python",
   "pygments_lexer": "ipython3",
   "version": "3.7.4"
  }
 },
 "nbformat": 4,
 "nbformat_minor": 2
}
