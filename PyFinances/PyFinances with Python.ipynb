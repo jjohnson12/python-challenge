{
 "cells": [
  {
   "cell_type": "code",
   "execution_count": 1,
   "metadata": {},
   "outputs": [],
   "source": [
    "# import dependencies\n",
    "\n",
    "import csv\n",
    "import os\n",
    "#from collections import Counter"
   ]
  },
  {
   "cell_type": "code",
   "execution_count": 2,
   "metadata": {},
   "outputs": [
    {
     "name": "stdout",
     "output_type": "stream",
     "text": [
      "{'867884': 'Jan-2010', '984655': 'Feb-2010', '322013': 'Mar-2010', '-69417': 'Apr-2010', '310503': 'May-2010', '522857': 'Jun-2010', '1033096': 'Jul-2010', '604885': 'Aug-2010', '-216386': 'Sep-2010', '477532': 'Oct-2010', '893810': 'Nov-2010', '-80353': 'Dec-2010', '779806': 'Jan-2011', '-335203': 'Feb-2011', '697845': 'Mar-2011', '793163': 'Apr-2011', '485070': 'May-2011', '584122': 'Jun-2011', '62729': 'Jul-2011', '668179': 'Aug-2011', '899906': 'Sep-2011', '834719': 'Oct-2011', '132003': 'Nov-2011', '309978': 'Dec-2011', '-755566': 'Jan-2012', '1170593': 'Feb-2012', '252788': 'Mar-2012', '1151518': 'Apr-2012', '817256': 'May-2012', '570757': 'Jun-2012', '506702': 'Jul-2012', '-1022534': 'Aug-2012', '475062': 'Sep-2012', '779976': 'Oct-2012', '144175': 'Nov-2012', '542494': 'Dec-2012', '359333': 'Jan-2013', '321469': 'Feb-2013', '67780': 'Mar-2013', '471435': 'Apr-2013', '565603': 'May-2013', '872480': 'Jun-2013', '789480': 'Jul-2013', '999942': 'Aug-2013', '-1196225': 'Sep-2013', '268997': 'Oct-2013', '-687986': 'Nov-2013', '1150461': 'Dec-2013', '682458': 'Jan-2014', '617856': 'Feb-2014', '824098': 'Mar-2014', '581943': 'Apr-2014', '132864': 'May-2014', '448062': 'Jun-2014', '689161': 'Jul-2014', '800701': 'Aug-2014', '1166643': 'Sep-2014', '947333': 'Oct-2014', '578668': 'Nov-2014', '988505': 'Dec-2014', '1139715': 'Jan-2015', '1029471': 'Feb-2015', '687533': 'Mar-2015', '-524626': 'Apr-2015', '158620': 'May-2015', '87795': 'Jun-2015', '423389': 'Jul-2015', '840723': 'Aug-2015', '568529': 'Sep-2015', '332067': 'Oct-2015', '989499': 'Nov-2015', '778237': 'Dec-2015', '650000': 'Jan-2016', '-1100387': 'Feb-2016', '-174946': 'Mar-2016', '757143': 'Apr-2016', '445709': 'May-2016', '712961': 'Jun-2016', '-1163797': 'Jul-2016', '569899': 'Aug-2016', '768450': 'Sep-2016', '102685': 'Oct-2016', '795914': 'Nov-2016', '60988': 'Dec-2016', '138230': 'Jan-2017', '671099': 'Feb-2017'}\n"
     ]
    }
   ],
   "source": [
    "# Path to collect data from Resources folder\n",
    "\n",
    "budget = os.path.join(\"Resources\", \"budget_data.csv\")\n",
    "with open(budget, \"r\") as csvfile:\n",
    "    csvreader = csv.reader(csvfile, delimiter=\",\")\n",
    "    # remove the column headers\n",
    "    next(csvreader)\n",
    "    # create a dictionary from the csv\n",
    "    budget_dict = {rows[0]:rows[1] for rows in csvreader}\n",
    "    print(budget_dict)"
   ]
  },
  {
   "cell_type": "code",
   "execution_count": 3,
   "metadata": {},
   "outputs": [],
   "source": [
    "# Sort the dictionary by the date.\n",
    "sorted_budget = {k: v for k, v in sorted(budget_dict.items(), key=lambda item: item[0], reverse=True)}"
   ]
  },
  {
   "cell_type": "code",
   "execution_count": 4,
   "metadata": {},
   "outputs": [
    {
     "name": "stdout",
     "output_type": "stream",
     "text": [
      "[('999942', 'Aug-2013'), ('989499', 'Nov-2015'), ('988505', 'Dec-2014'), ('984655', 'Feb-2010'), ('947333', 'Oct-2014'), ('899906', 'Sep-2011'), ('893810', 'Nov-2010'), ('87795', 'Jun-2015'), ('872480', 'Jun-2013'), ('867884', 'Jan-2010'), ('840723', 'Aug-2015'), ('834719', 'Oct-2011'), ('824098', 'Mar-2014'), ('817256', 'May-2012'), ('800701', 'Aug-2014'), ('795914', 'Nov-2016'), ('793163', 'Apr-2011'), ('789480', 'Jul-2013'), ('779976', 'Oct-2012'), ('779806', 'Jan-2011'), ('778237', 'Dec-2015'), ('768450', 'Sep-2016'), ('757143', 'Apr-2016'), ('712961', 'Jun-2016'), ('697845', 'Mar-2011'), ('689161', 'Jul-2014'), ('687533', 'Mar-2015'), ('682458', 'Jan-2014'), ('67780', 'Mar-2013'), ('671099', 'Feb-2017'), ('668179', 'Aug-2011'), ('650000', 'Jan-2016'), ('62729', 'Jul-2011'), ('617856', 'Feb-2014'), ('60988', 'Dec-2016'), ('604885', 'Aug-2010'), ('584122', 'Jun-2011'), ('581943', 'Apr-2014'), ('578668', 'Nov-2014'), ('570757', 'Jun-2012'), ('569899', 'Aug-2016'), ('568529', 'Sep-2015'), ('565603', 'May-2013'), ('542494', 'Dec-2012'), ('522857', 'Jun-2010'), ('506702', 'Jul-2012'), ('485070', 'May-2011'), ('477532', 'Oct-2010'), ('475062', 'Sep-2012'), ('471435', 'Apr-2013'), ('448062', 'Jun-2014'), ('445709', 'May-2016'), ('423389', 'Jul-2015'), ('359333', 'Jan-2013'), ('332067', 'Oct-2015'), ('322013', 'Mar-2010'), ('321469', 'Feb-2013'), ('310503', 'May-2010'), ('309978', 'Dec-2011'), ('268997', 'Oct-2013'), ('252788', 'Mar-2012'), ('158620', 'May-2015'), ('144175', 'Nov-2012'), ('138230', 'Jan-2017'), ('132864', 'May-2014'), ('132003', 'Nov-2011'), ('1170593', 'Feb-2012'), ('1166643', 'Sep-2014'), ('1151518', 'Apr-2012'), ('1150461', 'Dec-2013'), ('1139715', 'Jan-2015'), ('1033096', 'Jul-2010'), ('1029471', 'Feb-2015'), ('102685', 'Oct-2016'), ('-80353', 'Dec-2010'), ('-755566', 'Jan-2012'), ('-69417', 'Apr-2010'), ('-687986', 'Nov-2013'), ('-524626', 'Apr-2015'), ('-335203', 'Feb-2011'), ('-216386', 'Sep-2010'), ('-174946', 'Mar-2016'), ('-1196225', 'Sep-2013'), ('-1163797', 'Jul-2016'), ('-1100387', 'Feb-2016'), ('-1022534', 'Aug-2012')]\n"
     ]
    }
   ],
   "source": [
    "# Break the dictionary into tuples.\n",
    "\n",
    "net_month = [(k, v) for k, v in sorted_budget.items()]\n",
    "print(net_month)"
   ]
  },
  {
   "cell_type": "code",
   "execution_count": 5,
   "metadata": {},
   "outputs": [
    {
     "name": "stdout",
     "output_type": "stream",
     "text": [
      "[1170593, 1166643, 1151518, 1150461, 1139715, 1033096, 1029471, 999942, 989499, 988505, 984655, 947333, 899906, 893810, 872480, 867884, 840723, 834719, 824098, 817256, 800701, 795914, 793163, 789480, 779976, 779806, 778237, 768450, 757143, 712961, 697845, 689161, 687533, 682458, 671099, 668179, 650000, 617856, 604885, 584122, 581943, 578668, 570757, 569899, 568529, 565603, 542494, 522857, 506702, 485070, 477532, 475062, 471435, 448062, 445709, 423389, 359333, 332067, 322013, 321469, 310503, 309978, 268997, 252788, 158620, 144175, 138230, 132864, 132003, 102685, 87795, 67780, 62729, 60988, -69417, -80353, -174946, -216386, -335203, -524626, -687986, -755566, -1022534, -1100387, -1163797, -1196225]\n"
     ]
    }
   ],
   "source": [
    "# break the tuples into lists.\n",
    "\n",
    "net, month = zip(*net_month)\n",
    "\n",
    "# change net into integers\n",
    "net = [int(i) for i in net]\n",
    "\n",
    "# sort net by size\n",
    "net.sort(reverse=True)\n",
    "\n",
    "print(net)"
   ]
  },
  {
   "cell_type": "code",
   "execution_count": 6,
   "metadata": {},
   "outputs": [
    {
     "name": "stdout",
     "output_type": "stream",
     "text": [
      "86\n"
     ]
    }
   ],
   "source": [
    "# Find total months.\n",
    "\n",
    "total_months = (csvreader.line_num) - 1\n",
    "print(total_months)"
   ]
  },
  {
   "cell_type": "code",
   "execution_count": 9,
   "metadata": {},
   "outputs": [
    {
     "name": "stdout",
     "output_type": "stream",
     "text": [
      "38382578 446309.05\n"
     ]
    }
   ],
   "source": [
    "\n",
    "# Sum all of the monthly net values.\n",
    "sum_net = sum(net)\n",
    "\n",
    "# Average all of the monthly net values.\n",
    "avg_net = round((sum(net) / len(net)),2)\n",
    "\n",
    "print(sum_net, avg_net)\n",
    "\n"
   ]
  },
  {
   "cell_type": "code",
   "execution_count": 10,
   "metadata": {},
   "outputs": [
    {
     "name": "stdout",
     "output_type": "stream",
     "text": [
      "1170593 -1196225\n"
     ]
    }
   ],
   "source": [
    "#since we sorted the list by size, the biggest will be the first and the worst will be last\n",
    "\n",
    "greatest_increase = net[0]\n",
    "greatest_drop = (net[-1])\n",
    "\n",
    "print(greatest_increase, greatest_drop)"
   ]
  },
  {
   "cell_type": "code",
   "execution_count": 11,
   "metadata": {},
   "outputs": [
    {
     "name": "stdout",
     "output_type": "stream",
     "text": [
      "Feb-2012 Sep-2013\n"
     ]
    }
   ],
   "source": [
    "#perform a lookup of the value that matches these keys in dictionary\n",
    "\n",
    "gr_increase_month = budget_dict[str(greatest_increase)]\n",
    "gr_drop_month = budget_dict[str(greatest_drop)]\n",
    "\n",
    "print(gr_increase_month, gr_drop_month)"
   ]
  },
  {
   "cell_type": "code",
   "execution_count": 12,
   "metadata": {},
   "outputs": [
    {
     "name": "stdout",
     "output_type": "stream",
     "text": [
      "Financial Analysis\n",
      "----------------------------\n",
      "Total Months: 86\n",
      "Total: $38382578\n",
      "Average Change: $446309.05\n",
      "Greatest Incrase in Profits: Feb-2012 ($1170593)\n",
      "Greatest Incrase in Profits: Sep-2013 ($-1196225)\n"
     ]
    }
   ],
   "source": [
    "# print the output requested\n",
    "\n",
    "print(\"Financial Analysis\")\n",
    "print(\"----------------------------\")\n",
    "print(f\"Total Months: {str(total_months)}\")\n",
    "print(f\"Total: ${str(sum_net)}\")\n",
    "print(f\"Average Change: ${str(avg_net)}\")\n",
    "print(f\"Greatest Incrase in Profits: {str(gr_increase_month)} (${str(greatest_increase)})\")\n",
    "print(f\"Greatest Incrase in Profits: {str(gr_drop_month)} (${str(greatest_drop)})\")"
   ]
  },
  {
   "cell_type": "code",
   "execution_count": 13,
   "metadata": {},
   "outputs": [],
   "source": [
    "import sys\n",
    "filename = open(\"pyfinances_results.txt\", \"w\")\n",
    "sys.stdout = filename\n",
    "\n",
    "print(\"Financial Analysis\")\n",
    "print(\"----------------------------\")\n",
    "print(f\"Total Months: {str(total_months)}\")\n",
    "print(f\"Total: ${str(sum_net)}\")\n",
    "print(f\"Average Change: ${str(avg_net)}\")\n",
    "print(f\"Greatest Incrase in Profits: {str(gr_increase_month)} (${str(greatest_increase)})\")\n",
    "print(f\"Greatest Incrase in Profits: {str(gr_drop_month)} (${str(greatest_drop)})\")"
   ]
  },
  {
   "cell_type": "code",
   "execution_count": null,
   "metadata": {},
   "outputs": [],
   "source": []
  }
 ],
 "metadata": {
  "kernelspec": {
   "display_name": "Python 3",
   "language": "python",
   "name": "python3"
  },
  "language_info": {
   "codemirror_mode": {
    "name": "ipython",
    "version": 3
   },
   "file_extension": ".py",
   "mimetype": "text/x-python",
   "name": "python",
   "nbconvert_exporter": "python",
   "pygments_lexer": "ipython3",
   "version": "3.7.4"
  }
 },
 "nbformat": 4,
 "nbformat_minor": 2
}
